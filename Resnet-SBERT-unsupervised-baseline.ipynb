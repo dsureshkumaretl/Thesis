{
 "cells": [
  {
   "cell_type": "code",
   "execution_count": 2,
   "metadata": {},
   "outputs": [
    {
     "name": "stdout",
     "output_type": "stream",
     "text": [
      "^C\n",
      "Note: you may need to restart the kernel to use updated packages.\n"
     ]
    }
   ],
   "source": [
    "pip uninstall cupy"
   ]
  },
  {
   "cell_type": "code",
   "execution_count": 3,
   "metadata": {},
   "outputs": [
    {
     "name": "stdout",
     "output_type": "stream",
     "text": [
      "Requirement already satisfied: cupy in c:\\programdata\\anaconda3\\lib\\site-packages (8.3.0)\n",
      "Requirement already satisfied: numpy>=1.15 in c:\\programdata\\anaconda3\\lib\\site-packages (from cupy) (1.22.4)\n",
      "Requirement already satisfied: fastrlock>=0.3 in c:\\programdata\\anaconda3\\lib\\site-packages (from cupy) (0.8)\n",
      "Note: you may need to restart the kernel to use updated packages.\n"
     ]
    }
   ],
   "source": [
    "pip install cupy"
   ]
  },
  {
   "cell_type": "code",
   "execution_count": 4,
   "metadata": {},
   "outputs": [
    {
     "name": "stdout",
     "output_type": "stream",
     "text": [
      "Requirement already satisfied: torch in c:\\programdata\\anaconda3\\lib\\site-packages (2.0.1)\n",
      "Requirement already satisfied: filelock in c:\\programdata\\anaconda3\\lib\\site-packages (from torch) (3.6.0)\n",
      "Requirement already satisfied: typing-extensions in c:\\programdata\\anaconda3\\lib\\site-packages (from torch) (4.7.1)\n",
      "Requirement already satisfied: sympy in c:\\programdata\\anaconda3\\lib\\site-packages (from torch) (1.10.1)\n",
      "Requirement already satisfied: networkx in c:\\programdata\\anaconda3\\lib\\site-packages (from torch) (2.7.1)\n",
      "Requirement already satisfied: jinja2 in c:\\programdata\\anaconda3\\lib\\site-packages (from torch) (2.11.3)\n",
      "Requirement already satisfied: MarkupSafe>=0.23 in c:\\programdata\\anaconda3\\lib\\site-packages (from jinja2->torch) (2.0.1)\n",
      "Requirement already satisfied: mpmath>=0.19 in c:\\programdata\\anaconda3\\lib\\site-packages (from sympy->torch) (1.2.1)\n",
      "Note: you may need to restart the kernel to use updated packages.\n"
     ]
    }
   ],
   "source": [
    "pip install torch"
   ]
  },
  {
   "cell_type": "code",
   "execution_count": 5,
   "metadata": {
    "scrolled": true
   },
   "outputs": [
    {
     "name": "stdout",
     "output_type": "stream",
     "text": [
      "Collecting cudf\n",
      "  Using cached cudf-0.6.1.post1.tar.gz (1.1 kB)\n",
      "  Preparing metadata (setup.py): started\n",
      "  Preparing metadata (setup.py): finished with status 'done'\n",
      "Building wheels for collected packages: cudf\n",
      "  Building wheel for cudf (setup.py): started\n",
      "  Building wheel for cudf (setup.py): finished with status 'error'\n",
      "  Running setup.py clean for cudf\n",
      "Failed to build cudf\n",
      "Note: you may need to restart the kernel to use updated packages.\n"
     ]
    },
    {
     "name": "stderr",
     "output_type": "stream",
     "text": [
      "  error: subprocess-exited-with-error\n",
      "  \n",
      "  python setup.py bdist_wheel did not run successfully.\n",
      "  exit code: 1\n",
      "  \n",
      "  [34 lines of output]\n",
      "  running bdist_wheel\n",
      "  running build\n",
      "  C:\\ProgramData\\Anaconda3\\lib\\site-packages\\setuptools\\command\\install.py:34: SetuptoolsDeprecationWarning: setup.py install is deprecated. Use build and pip and other standards-based tools.\n",
      "    warnings.warn(\n",
      "  installing to build\\bdist.win-amd64\\wheel\n",
      "  running install\n",
      "  Traceback (most recent call last):\n",
      "    File \"<string>\", line 2, in <module>\n",
      "    File \"<pip-setuptools-caller>\", line 34, in <module>\n",
      "    File \"C:\\Users\\dskme\\AppData\\Local\\Temp\\pip-install-kewdk1mt\\cudf_b1d8f0baeb0b4e8a911447278022e31a\\setup.py\", line 18, in <module>\n",
      "      setup(name=pkg,\n",
      "    File \"C:\\ProgramData\\Anaconda3\\lib\\site-packages\\setuptools\\__init__.py\", line 87, in setup\n",
      "      return distutils.core.setup(**attrs)\n",
      "    File \"C:\\ProgramData\\Anaconda3\\lib\\site-packages\\setuptools\\_distutils\\core.py\", line 148, in setup\n",
      "      return run_commands(dist)\n",
      "    File \"C:\\ProgramData\\Anaconda3\\lib\\site-packages\\setuptools\\_distutils\\core.py\", line 163, in run_commands\n",
      "      dist.run_commands()\n",
      "    File \"C:\\ProgramData\\Anaconda3\\lib\\site-packages\\setuptools\\_distutils\\dist.py\", line 967, in run_commands\n",
      "      self.run_command(cmd)\n",
      "    File \"C:\\ProgramData\\Anaconda3\\lib\\site-packages\\setuptools\\dist.py\", line 1214, in run_command\n",
      "      super().run_command(command)\n",
      "    File \"C:\\ProgramData\\Anaconda3\\lib\\site-packages\\setuptools\\_distutils\\dist.py\", line 986, in run_command\n",
      "      cmd_obj.run()\n",
      "    File \"C:\\ProgramData\\Anaconda3\\lib\\site-packages\\wheel\\bdist_wheel.py\", line 335, in run\n",
      "      self.run_command('install')\n",
      "    File \"C:\\ProgramData\\Anaconda3\\lib\\site-packages\\setuptools\\_distutils\\cmd.py\", line 313, in run_command\n",
      "      self.distribution.run_command(command)\n",
      "    File \"C:\\ProgramData\\Anaconda3\\lib\\site-packages\\setuptools\\dist.py\", line 1214, in run_command\n",
      "      super().run_command(command)\n",
      "    File \"C:\\ProgramData\\Anaconda3\\lib\\site-packages\\setuptools\\_distutils\\dist.py\", line 986, in run_command\n",
      "      cmd_obj.run()\n",
      "    File \"C:\\Users\\dskme\\AppData\\Local\\Temp\\pip-install-kewdk1mt\\cudf_b1d8f0baeb0b4e8a911447278022e31a\\setup.py\", line 15, in run\n",
      "      raise Exception(long_description)\n",
      "  Exception: Please install cudf via the rapidsai conda channel. See https://rapids.ai/start.html for instructions.\n",
      "  [end of output]\n",
      "  \n",
      "  note: This error originates from a subprocess, and is likely not a problem with pip.\n",
      "  ERROR: Failed building wheel for cudf\n",
      "ERROR: Could not build wheels for cudf, which is required to install pyproject.toml-based projects\n"
     ]
    }
   ],
   "source": [
    "pip install cudf"
   ]
  },
  {
   "cell_type": "code",
   "execution_count": 1,
   "metadata": {
    "_cell_guid": "b1076dfc-b9ad-4769-8c92-a6c4dae69d19",
    "_uuid": "8f2839f25d086af736a60e9eeb907d3b93b6e0e5",
    "execution": {
     "iopub.execute_input": "2021-03-23T11:53:19.061895Z",
     "iopub.status.busy": "2021-03-23T11:53:19.061158Z",
     "iopub.status.idle": "2021-03-23T11:53:25.917474Z",
     "shell.execute_reply": "2021-03-23T11:53:25.916715Z"
    },
    "papermill": {
     "duration": 6.894569,
     "end_time": "2021-03-23T11:53:25.917679",
     "exception": false,
     "start_time": "2021-03-23T11:53:19.023110",
     "status": "completed"
    },
    "tags": []
   },
   "outputs": [
    {
     "ename": "KeyError",
     "evalue": "'filename'",
     "output_type": "error",
     "traceback": [
      "\u001b[1;31m---------------------------------------------------------------------------\u001b[0m",
      "\u001b[1;31mKeyError\u001b[0m                                  Traceback (most recent call last)",
      "Input \u001b[1;32mIn [1]\u001b[0m, in \u001b[0;36m<cell line: 2>\u001b[1;34m()\u001b[0m\n\u001b[0;32m      1\u001b[0m \u001b[38;5;28;01mimport\u001b[39;00m \u001b[38;5;21;01mnumpy\u001b[39;00m \u001b[38;5;28;01mas\u001b[39;00m \u001b[38;5;21;01mnp\u001b[39;00m\n\u001b[1;32m----> 2\u001b[0m \u001b[38;5;28;01mimport\u001b[39;00m \u001b[38;5;21;01mcupy\u001b[39;00m\u001b[38;5;241m,\u001b[39m \u001b[38;5;21;01mcudf\u001b[39;00m\n\u001b[0;32m      3\u001b[0m \u001b[38;5;28;01mimport\u001b[39;00m \u001b[38;5;21;01mgc\u001b[39;00m\n\u001b[0;32m      4\u001b[0m \u001b[38;5;28;01mimport\u001b[39;00m \u001b[38;5;21;01mpandas\u001b[39;00m \u001b[38;5;28;01mas\u001b[39;00m \u001b[38;5;21;01mpd\u001b[39;00m\n",
      "File \u001b[1;32mC:\\ProgramData\\Anaconda3\\lib\\site-packages\\cupy\\__init__.py:12\u001b[0m, in \u001b[0;36m<module>\u001b[1;34m\u001b[0m\n\u001b[0;32m      8\u001b[0m \u001b[38;5;28;01mfrom\u001b[39;00m \u001b[38;5;21;01mcupy\u001b[39;00m \u001b[38;5;28;01mimport\u001b[39;00m _version\n\u001b[0;32m     11\u001b[0m _environment\u001b[38;5;241m.\u001b[39m_setup_win32_dll_directory()  \u001b[38;5;66;03m# NOQA\u001b[39;00m\n\u001b[1;32m---> 12\u001b[0m \u001b[43m_environment\u001b[49m\u001b[38;5;241;43m.\u001b[39;49m\u001b[43m_preload_libraries\u001b[49m\u001b[43m(\u001b[49m\u001b[43m)\u001b[49m  \u001b[38;5;66;03m# NOQA\u001b[39;00m\n\u001b[0;32m     15\u001b[0m \u001b[38;5;28;01mtry\u001b[39;00m:\n\u001b[0;32m     16\u001b[0m     \u001b[38;5;28;01mwith\u001b[39;00m _warnings\u001b[38;5;241m.\u001b[39mcatch_warnings():\n",
      "File \u001b[1;32mC:\\ProgramData\\Anaconda3\\lib\\site-packages\\cupy\\_environment.py:292\u001b[0m, in \u001b[0;36m_preload_libraries\u001b[1;34m()\u001b[0m\n\u001b[0;32m    290\u001b[0m     \u001b[38;5;28;01mcontinue\u001b[39;00m\n\u001b[0;32m    291\u001b[0m version \u001b[38;5;241m=\u001b[39m config[lib][\u001b[38;5;124m'\u001b[39m\u001b[38;5;124mversion\u001b[39m\u001b[38;5;124m'\u001b[39m]\n\u001b[1;32m--> 292\u001b[0m filename \u001b[38;5;241m=\u001b[39m \u001b[43mconfig\u001b[49m\u001b[43m[\u001b[49m\u001b[43mlib\u001b[49m\u001b[43m]\u001b[49m\u001b[43m[\u001b[49m\u001b[38;5;124;43m'\u001b[39;49m\u001b[38;5;124;43mfilename\u001b[39;49m\u001b[38;5;124;43m'\u001b[39;49m\u001b[43m]\u001b[49m\n\u001b[0;32m    293\u001b[0m _log(\u001b[38;5;124m'\u001b[39m\u001b[38;5;124mLooking for \u001b[39m\u001b[38;5;132;01m{}\u001b[39;00m\u001b[38;5;124m version \u001b[39m\u001b[38;5;132;01m{}\u001b[39;00m\u001b[38;5;124m (\u001b[39m\u001b[38;5;132;01m{}\u001b[39;00m\u001b[38;5;124m)\u001b[39m\u001b[38;5;124m'\u001b[39m\u001b[38;5;241m.\u001b[39mformat(lib, version, filename))\n\u001b[0;32m    295\u001b[0m lib64dir \u001b[38;5;241m=\u001b[39m \u001b[38;5;124m'\u001b[39m\u001b[38;5;124mbin\u001b[39m\u001b[38;5;124m'\u001b[39m \u001b[38;5;28;01mif\u001b[39;00m sys\u001b[38;5;241m.\u001b[39mplatform\u001b[38;5;241m.\u001b[39mstartswith(\u001b[38;5;124m'\u001b[39m\u001b[38;5;124mwin32\u001b[39m\u001b[38;5;124m'\u001b[39m) \u001b[38;5;28;01melse\u001b[39;00m \u001b[38;5;124m'\u001b[39m\u001b[38;5;124mlib64\u001b[39m\u001b[38;5;124m'\u001b[39m\n",
      "\u001b[1;31mKeyError\u001b[0m: 'filename'"
     ]
    }
   ],
   "source": [
    "import numpy as np\n",
    "import cupy, cudf\n",
    "import gc\n",
    "import pandas as pd\n",
    "from tqdm import tqdm\n",
    "tqdm.pandas()\n",
    "import random\n",
    "import torch\n",
    "import torchvision\n",
    "from torchvision import  models, transforms\n",
    "from transformers import BertTokenizer, BertModel\n",
    "from cuml.feature_extraction.text import TfidfVectorizer\n",
    "from cuml.neighbors import NearestNeighbors\n",
    "import torch.nn as nn\n",
    "import torch.nn.functional as F\n",
    "import os\n",
    "import glob\n",
    "from PIL import Image\n",
    "import seaborn as sns\n",
    "import cv2, matplotlib.pyplot as plt\n",
    "import matplotlib.image as mpimg\n",
    "from textwrap import wrap"
   ]
  },
  {
   "cell_type": "markdown",
   "metadata": {
    "papermill": {
     "duration": 0.031006,
     "end_time": "2021-03-23T11:53:25.980770",
     "exception": false,
     "start_time": "2021-03-23T11:53:25.949764",
     "status": "completed"
    },
    "tags": []
   },
   "source": [
    "# Data import"
   ]
  },
  {
   "cell_type": "code",
   "execution_count": null,
   "metadata": {
    "execution": {
     "iopub.execute_input": "2021-03-23T11:53:26.051840Z",
     "iopub.status.busy": "2021-03-23T11:53:26.050707Z",
     "iopub.status.idle": "2021-03-23T11:53:26.055100Z",
     "shell.execute_reply": "2021-03-23T11:53:26.055526Z"
    },
    "papermill": {
     "duration": 0.042731,
     "end_time": "2021-03-23T11:53:26.055677",
     "exception": false,
     "start_time": "2021-03-23T11:53:26.012946",
     "status": "completed"
    },
    "tags": []
   },
   "outputs": [],
   "source": [
    "device = 'cuda'if torch.cuda.is_available() else 'cpu'\n",
    "device"
   ]
  },
  {
   "cell_type": "code",
   "execution_count": null,
   "metadata": {
    "execution": {
     "iopub.execute_input": "2021-03-23T11:53:26.124813Z",
     "iopub.status.busy": "2021-03-23T11:53:26.124032Z",
     "iopub.status.idle": "2021-03-23T11:53:26.131277Z",
     "shell.execute_reply": "2021-03-23T11:53:26.130562Z"
    },
    "papermill": {
     "duration": 0.043265,
     "end_time": "2021-03-23T11:53:26.131451",
     "exception": false,
     "start_time": "2021-03-23T11:53:26.088186",
     "status": "completed"
    },
    "tags": []
   },
   "outputs": [],
   "source": [
    "PATH = 'E:\\\\MSc DataAnalytics\\\\Learning\\\\Semester3\\\\Thesis\\\\RICFiles\\\\DataSet\\\\shopee-product-matching\\\\'\n",
    "PATH_TO_IMG = 'E:\\\\MSc DataAnalytics\\\\Learning\\\\Semester3\\\\Thesis\\\\RICFiles\\\\DataSet\\\\shopee-product-matching\\\\train_images\\\\'\n",
    "PATH_TO_TEST = 'E:\\\\MSc DataAnalytics\\\\Learning\\\\Semester3\\\\Thesis\\\\RICFiles\\\\DataSet\\\\shopee-product-matching\\\\test_images\\\\'\n",
    "os.listdir(PATH)"
   ]
  },
  {
   "cell_type": "code",
   "execution_count": null,
   "metadata": {
    "execution": {
     "iopub.execute_input": "2021-03-23T11:53:26.203994Z",
     "iopub.status.busy": "2021-03-23T11:53:26.202041Z",
     "iopub.status.idle": "2021-03-23T11:53:26.212792Z",
     "shell.execute_reply": "2021-03-23T11:53:26.212226Z"
    },
    "papermill": {
     "duration": 0.049337,
     "end_time": "2021-03-23T11:53:26.213026",
     "exception": false,
     "start_time": "2021-03-23T11:53:26.163689",
     "status": "completed"
    },
    "tags": []
   },
   "outputs": [],
   "source": [
    "COMPUTE_CV = True\n",
    "if len(pd.read_csv(PATH + 'test.csv')) > 3: COMPUTE_CV = False"
   ]
  },
  {
   "cell_type": "code",
   "execution_count": null,
   "metadata": {
    "execution": {
     "iopub.execute_input": "2021-03-23T11:53:26.288513Z",
     "iopub.status.busy": "2021-03-23T11:53:26.287926Z",
     "iopub.status.idle": "2021-03-23T11:53:27.249645Z",
     "shell.execute_reply": "2021-03-23T11:53:27.248136Z"
    },
    "papermill": {
     "duration": 1.002735,
     "end_time": "2021-03-23T11:53:27.249791",
     "exception": false,
     "start_time": "2021-03-23T11:53:26.247056",
     "status": "completed"
    },
    "tags": []
   },
   "outputs": [],
   "source": [
    "if COMPUTE_CV:\n",
    "    dataset = pd.read_csv(PATH + 'train.csv')\n",
    "    tmp = dataset.groupby('label_group').posting_id.agg('unique').to_dict()\n",
    "    dataset['target'] = dataset.label_group.map(tmp)\n",
    "else:    \n",
    "    dataset = pd.read_csv(PATH + 'test.csv')"
   ]
  },
  {
   "cell_type": "code",
   "execution_count": null,
   "metadata": {
    "execution": {
     "iopub.execute_input": "2021-03-23T11:53:27.325700Z",
     "iopub.status.busy": "2021-03-23T11:53:27.324822Z",
     "iopub.status.idle": "2021-03-23T11:53:27.334435Z",
     "shell.execute_reply": "2021-03-23T11:53:27.334906Z"
    },
    "papermill": {
     "duration": 0.05108,
     "end_time": "2021-03-23T11:53:27.335055",
     "exception": false,
     "start_time": "2021-03-23T11:53:27.283975",
     "status": "completed"
    },
    "tags": []
   },
   "outputs": [],
   "source": [
    "dataset.head()"
   ]
  },
  {
   "cell_type": "code",
   "execution_count": null,
   "metadata": {
    "execution": {
     "iopub.execute_input": "2021-03-23T11:53:27.410978Z",
     "iopub.status.busy": "2021-03-23T11:53:27.409096Z",
     "iopub.status.idle": "2021-03-23T11:53:27.411669Z",
     "shell.execute_reply": "2021-03-23T11:53:27.412143Z"
    },
    "papermill": {
     "duration": 0.044399,
     "end_time": "2021-03-23T11:53:27.412276",
     "exception": false,
     "start_time": "2021-03-23T11:53:27.367877",
     "status": "completed"
    },
    "tags": []
   },
   "outputs": [],
   "source": [
    "def show_random_img():\n",
    "    # choose randomly two instances per each class\n",
    "    labels_to_show = np.random.choice(dataset.label_group.unique(), \n",
    "                                      replace=False, size=24)\n",
    "    img_to_show = []\n",
    "    for label in labels_to_show:\n",
    "        rows = dataset[dataset.label_group==label].copy()\n",
    "        pair = np.random.choice([i for i in range(len(rows))], \n",
    "                                    replace=False, size=2)\n",
    "        img_pair = rows.iloc[pair][['image', 'title']].values\n",
    "        \n",
    "        img_to_show += list(img_pair)\n",
    "    \n",
    "    fig, axes = plt.subplots(figsize = (18, 12), nrows=4,ncols=6)\n",
    "    for imp, ax in zip(img_to_show, axes.ravel()):\n",
    "        img = cv2.imread(PATH_TO_IMG + imp[0])\n",
    "        title = '\\n'.join(wrap(imp[1], 20))\n",
    "        ax.set_title(title)\n",
    "        ax.imshow(img)\n",
    "        ax.axis('off')\n",
    "\n",
    "    fig.tight_layout()"
   ]
  },
  {
   "cell_type": "code",
   "execution_count": null,
   "metadata": {
    "execution": {
     "iopub.execute_input": "2021-03-23T11:53:27.483095Z",
     "iopub.status.busy": "2021-03-23T11:53:27.482560Z",
     "iopub.status.idle": "2021-03-23T11:53:30.665333Z",
     "shell.execute_reply": "2021-03-23T11:53:30.665786Z"
    },
    "papermill": {
     "duration": 3.220314,
     "end_time": "2021-03-23T11:53:30.665929",
     "exception": false,
     "start_time": "2021-03-23T11:53:27.445615",
     "status": "completed"
    },
    "tags": []
   },
   "outputs": [],
   "source": [
    "if COMPUTE_CV:\n",
    "    show_random_img()"
   ]
  },
  {
   "cell_type": "markdown",
   "metadata": {
    "papermill": {
     "duration": 0.041897,
     "end_time": "2021-03-23T11:53:30.750793",
     "exception": false,
     "start_time": "2021-03-23T11:53:30.708896",
     "status": "completed"
    },
    "tags": []
   },
   "source": [
    "# ResNet block"
   ]
  },
  {
   "cell_type": "code",
   "execution_count": null,
   "metadata": {
    "execution": {
     "iopub.execute_input": "2021-03-23T11:53:30.844955Z",
     "iopub.status.busy": "2021-03-23T11:53:30.844144Z",
     "iopub.status.idle": "2021-03-23T11:53:30.847176Z",
     "shell.execute_reply": "2021-03-23T11:53:30.846755Z"
    },
    "papermill": {
     "duration": 0.054249,
     "end_time": "2021-03-23T11:53:30.847295",
     "exception": false,
     "start_time": "2021-03-23T11:53:30.793046",
     "status": "completed"
    },
    "tags": []
   },
   "outputs": [],
   "source": [
    "class ResNetEmbedder(nn.Module):\n",
    "    \n",
    "    def __init__(self, device='cpu'):\n",
    "        super(ResNetEmbedder, self).__init__()\n",
    "        self.model = models.resnet50(pretrained=False)\n",
    "        self.device = device\n",
    "        path = '../input/pretrained-model-weights-pytorch/resnet50-19c8e357.pth'\n",
    "        self.model.load_state_dict(torch.load(path))\n",
    "#         to freeze weights\n",
    "        for param in self.model.parameters():\n",
    "                param.requires_grad = False\n",
    "        self.model.to(device)\n",
    "        \n",
    "    \n",
    "    def transform(self, img):\n",
    "        image_transform = torchvision.transforms.Compose(\n",
    "            [\n",
    "                torchvision.transforms.Resize(256),\n",
    "                transforms.CenterCrop(224),\n",
    "                torchvision.transforms.ToTensor(),\n",
    "                torchvision.transforms.Normalize(\n",
    "                    mean=(0.485, 0.456, 0.406), \n",
    "                    std=(0.229, 0.224, 0.225)\n",
    "                ),\n",
    "            ]\n",
    "        )\n",
    "        return image_transform(img)\n",
    "    \n",
    "    def forward(self, img):\n",
    "        img_tr = self.transform(img).unsqueeze(0)\n",
    "        img_tr = img_tr.to(self.device)\n",
    "        features = self.model(img_tr).squeeze()\n",
    "        return features"
   ]
  },
  {
   "cell_type": "code",
   "execution_count": null,
   "metadata": {
    "execution": {
     "iopub.execute_input": "2021-03-23T11:53:30.936577Z",
     "iopub.status.busy": "2021-03-23T11:53:30.935927Z",
     "iopub.status.idle": "2021-03-23T11:53:41.152605Z",
     "shell.execute_reply": "2021-03-23T11:53:41.153077Z"
    },
    "papermill": {
     "duration": 10.264287,
     "end_time": "2021-03-23T11:53:41.153255",
     "exception": false,
     "start_time": "2021-03-23T11:53:30.888968",
     "status": "completed"
    },
    "tags": []
   },
   "outputs": [],
   "source": [
    "model_img = ResNetEmbedder(device)"
   ]
  },
  {
   "cell_type": "code",
   "execution_count": null,
   "metadata": {
    "execution": {
     "iopub.execute_input": "2021-03-23T11:53:41.248273Z",
     "iopub.status.busy": "2021-03-23T11:53:41.247689Z",
     "iopub.status.idle": "2021-03-23T11:53:41.251938Z",
     "shell.execute_reply": "2021-03-23T11:53:41.251276Z"
    },
    "papermill": {
     "duration": 0.054255,
     "end_time": "2021-03-23T11:53:41.252073",
     "exception": false,
     "start_time": "2021-03-23T11:53:41.197818",
     "status": "completed"
    },
    "tags": []
   },
   "outputs": [],
   "source": [
    "def vectorize_img(img_path):\n",
    "    img = Image.open(img_path).convert('RGB')\n",
    "    model_img.eval()\n",
    "    with torch.no_grad():\n",
    "        output = model_img(img).cpu().numpy()\n",
    "    return output"
   ]
  },
  {
   "cell_type": "code",
   "execution_count": null,
   "metadata": {
    "execution": {
     "iopub.execute_input": "2021-03-23T11:53:41.348004Z",
     "iopub.status.busy": "2021-03-23T11:53:41.344748Z",
     "iopub.status.idle": "2021-03-23T12:08:18.327075Z",
     "shell.execute_reply": "2021-03-23T12:08:18.326664Z"
    },
    "papermill": {
     "duration": 877.031789,
     "end_time": "2021-03-23T12:08:18.327206",
     "exception": false,
     "start_time": "2021-03-23T11:53:41.295417",
     "status": "completed"
    },
    "tags": []
   },
   "outputs": [],
   "source": [
    "%%time\n",
    "if COMPUTE_CV:\n",
    "    dataset['resnet_v'] = dataset['image'].progress_apply(lambda x: vectorize_img(PATH_TO_IMG + x))\n",
    "else:\n",
    "    dataset['resnet_v'] = dataset['image'].progress_apply(lambda x: vectorize_img(PATH_TO_TEST + x))"
   ]
  },
  {
   "cell_type": "code",
   "execution_count": null,
   "metadata": {
    "execution": {
     "iopub.execute_input": "2021-03-23T12:08:22.839941Z",
     "iopub.status.busy": "2021-03-23T12:08:22.839008Z",
     "iopub.status.idle": "2021-03-23T12:08:22.841008Z",
     "shell.execute_reply": "2021-03-23T12:08:22.841492Z"
    },
    "papermill": {
     "duration": 2.47724,
     "end_time": "2021-03-23T12:08:22.841658",
     "exception": false,
     "start_time": "2021-03-23T12:08:20.364418",
     "status": "completed"
    },
    "tags": []
   },
   "outputs": [],
   "source": [
    "del model_img"
   ]
  },
  {
   "cell_type": "markdown",
   "metadata": {
    "papermill": {
     "duration": 2.283066,
     "end_time": "2021-03-23T12:08:27.115546",
     "exception": false,
     "start_time": "2021-03-23T12:08:24.832480",
     "status": "completed"
    },
    "tags": []
   },
   "source": [
    "Check cosine metrics. Vectors should be normalized.**This can furthere be enhanced by adding jaccard similarity or harvesian distance**"
   ]
  },
  {
   "cell_type": "code",
   "execution_count": null,
   "metadata": {
    "execution": {
     "iopub.execute_input": "2021-03-23T12:08:31.099892Z",
     "iopub.status.busy": "2021-03-23T12:08:31.094797Z",
     "iopub.status.idle": "2021-03-23T12:08:31.209258Z",
     "shell.execute_reply": "2021-03-23T12:08:31.208759Z"
    },
    "papermill": {
     "duration": 2.126265,
     "end_time": "2021-03-23T12:08:31.209436",
     "exception": false,
     "start_time": "2021-03-23T12:08:29.083171",
     "status": "completed"
    },
    "tags": []
   },
   "outputs": [],
   "source": [
    "vectors = np.stack(dataset.resnet_v)\n",
    "vectors = torch.Tensor(vectors).to(device)\n",
    "vectors = F.normalize(vectors)"
   ]
  },
  {
   "cell_type": "code",
   "execution_count": null,
   "metadata": {
    "execution": {
     "iopub.execute_input": "2021-03-23T12:08:35.220781Z",
     "iopub.status.busy": "2021-03-23T12:08:35.220037Z",
     "iopub.status.idle": "2021-03-23T12:09:07.436331Z",
     "shell.execute_reply": "2021-03-23T12:09:07.437008Z"
    },
    "papermill": {
     "duration": 34.205116,
     "end_time": "2021-03-23T12:09:07.437224",
     "exception": false,
     "start_time": "2021-03-23T12:08:33.232108",
     "status": "completed"
    },
    "tags": []
   },
   "outputs": [],
   "source": [
    "preds = []\n",
    "CHUNK = 1024\n",
    "\n",
    "print('Finding similar titles...')\n",
    "CTS = len(dataset)//CHUNK\n",
    "if len(dataset)%CHUNK!=0: CTS += 1\n",
    "for j in range( CTS ):\n",
    "    \n",
    "    a = j*CHUNK\n",
    "    b = (j+1)*CHUNK\n",
    "    b = min(b,len(dataset))\n",
    "    print('chunk',a,'to',b)\n",
    "    \n",
    "    # COSINE SIMILARITY DISTANCE\n",
    "    cts = torch.matmul( vectors, vectors[a:b].T).T\n",
    "    cts = cts.cpu().numpy()\n",
    "    \n",
    "    for k in range(b-a):\n",
    "        IDX = np.where(cts[k,]>0.9)[0]\n",
    "        o = dataset.iloc[IDX].posting_id.values\n",
    "        preds.append(o)\n",
    "\n",
    "del vectors, cts, IDX, o\n",
    "_ = gc.collect()"
   ]
  },
  {
   "cell_type": "code",
   "execution_count": null,
   "metadata": {
    "execution": {
     "iopub.execute_input": "2021-03-23T12:09:11.750624Z",
     "iopub.status.busy": "2021-03-23T12:09:11.750006Z",
     "iopub.status.idle": "2021-03-23T12:09:11.755960Z",
     "shell.execute_reply": "2021-03-23T12:09:11.755524Z"
    },
    "papermill": {
     "duration": 2.344108,
     "end_time": "2021-03-23T12:09:11.756098",
     "exception": false,
     "start_time": "2021-03-23T12:09:09.411990",
     "status": "completed"
    },
    "tags": []
   },
   "outputs": [],
   "source": [
    "dataset['preds_resnet'] = preds\n",
    "dataset.head()"
   ]
  },
  {
   "cell_type": "code",
   "execution_count": null,
   "metadata": {
    "execution": {
     "iopub.execute_input": "2021-03-23T12:09:15.738916Z",
     "iopub.status.busy": "2021-03-23T12:09:15.737973Z",
     "iopub.status.idle": "2021-03-23T12:09:15.740694Z",
     "shell.execute_reply": "2021-03-23T12:09:15.741121Z"
    },
    "papermill": {
     "duration": 1.995895,
     "end_time": "2021-03-23T12:09:15.741342",
     "exception": false,
     "start_time": "2021-03-23T12:09:13.745447",
     "status": "completed"
    },
    "tags": []
   },
   "outputs": [],
   "source": [
    "def getMetric(col):\n",
    "    def f1score(row):\n",
    "        n = len( np.intersect1d(row.target,row[col]) )\n",
    "        return 2*n / (len(row.target)+len(row[col]))\n",
    "    return f1score"
   ]
  },
  {
   "cell_type": "code",
   "execution_count": null,
   "metadata": {
    "execution": {
     "iopub.execute_input": "2021-03-23T12:09:19.779257Z",
     "iopub.status.busy": "2021-03-23T12:09:19.778214Z",
     "iopub.status.idle": "2021-03-23T12:09:22.433613Z",
     "shell.execute_reply": "2021-03-23T12:09:22.434203Z"
    },
    "papermill": {
     "duration": 4.659475,
     "end_time": "2021-03-23T12:09:22.434434",
     "exception": false,
     "start_time": "2021-03-23T12:09:17.774959",
     "status": "completed"
    },
    "tags": []
   },
   "outputs": [],
   "source": [
    "if COMPUTE_CV:\n",
    "    dataset['f1_resnet'] = dataset.apply(getMetric('preds_resnet'), axis=1)\n",
    "    print('CV score for baseline =', dataset.f1_resnet.mean())"
   ]
  },
  {
   "cell_type": "markdown",
   "metadata": {
    "papermill": {
     "duration": 2.523182,
     "end_time": "2021-03-23T12:09:26.947380",
     "exception": false,
     "start_time": "2021-03-23T12:09:24.424198",
     "status": "completed"
    },
    "tags": []
   },
   "source": [
    "# Sentence Bert block"
   ]
  },
  {
   "cell_type": "markdown",
   "metadata": {
    "papermill": {
     "duration": 1.954883,
     "end_time": "2021-03-23T12:09:30.874266",
     "exception": false,
     "start_time": "2021-03-23T12:09:28.919383",
     "status": "completed"
    },
    "tags": []
   },
   "source": [
    "For reference on the [documentation](https://huggingface.co/sentence-transformers/bert-base-nli-mean-tokens)."
   ]
  },
  {
   "cell_type": "code",
   "execution_count": null,
   "metadata": {
    "execution": {
     "iopub.execute_input": "2021-03-23T12:09:35.151704Z",
     "iopub.status.busy": "2021-03-23T12:09:35.150895Z",
     "iopub.status.idle": "2021-03-23T12:09:35.154213Z",
     "shell.execute_reply": "2021-03-23T12:09:35.153797Z"
    },
    "papermill": {
     "duration": 1.995197,
     "end_time": "2021-03-23T12:09:35.154326",
     "exception": false,
     "start_time": "2021-03-23T12:09:33.159129",
     "status": "completed"
    },
    "tags": []
   },
   "outputs": [],
   "source": [
    "class BERTEmbedder(nn.Module):\n",
    "    \n",
    "    def __init__(self, device='cpu'):\n",
    "        super(BERTEmbedder, self).__init__()\n",
    "        self.bert_path = \"../input/sentence-transformer/\"\n",
    "        self.model = BertModel.from_pretrained(self.bert_path)\n",
    "#         to freeze weights\n",
    "        for param in self.model.parameters():\n",
    "                param.requires_grad = False\n",
    "        self.model.to(device)\n",
    "        \n",
    "    def transform(self, txt):\n",
    "        tokenizer = BertTokenizer.from_pretrained(self.bert_path)\n",
    "        encoded_input  = tokenizer.encode_plus( txt, \n",
    "                                                truncation=True, \n",
    "                                                max_length=128,\n",
    "                                                add_special_tokens=True,\n",
    "                                                padding=True,\n",
    "                                                return_tensors='pt').values()\n",
    "        return encoded_input\n",
    "    \n",
    "    def mean_pooling(self, model_output, attention_mask):\n",
    "        token_embeddings = model_output[0]\n",
    "        input_mask_expanded = attention_mask.unsqueeze(-1).expand(token_embeddings.size()).float()\n",
    "        sum_embeddings = torch.sum(token_embeddings * input_mask_expanded, 1)\n",
    "        sum_mask = torch.clamp(input_mask_expanded.sum(1), min=1e-9)\n",
    "        return sum_embeddings / sum_mask\n",
    "        \n",
    "    def forward(self, txt):\n",
    "        inputs_ids, token_type_ids, attention_mask = self.transform(txt)\n",
    "        inputs_ids, token_type_ids, attention_mask = inputs_ids.to(device), \\\n",
    "                                                token_type_ids.to(device), attention_mask.to(device)\n",
    "        with torch.no_grad():\n",
    "            encoded_layers = self.model(inputs_ids, \n",
    "                                        attention_mask=attention_mask, \n",
    "                                        token_type_ids=token_type_ids)\n",
    "        features = self.mean_pooling(encoded_layers, attention_mask)\n",
    "        return features"
   ]
  },
  {
   "cell_type": "code",
   "execution_count": null,
   "metadata": {
    "execution": {
     "iopub.execute_input": "2021-03-23T12:09:39.114216Z",
     "iopub.status.busy": "2021-03-23T12:09:39.113672Z",
     "iopub.status.idle": "2021-03-23T12:09:46.602086Z",
     "shell.execute_reply": "2021-03-23T12:09:46.601546Z"
    },
    "papermill": {
     "duration": 9.475472,
     "end_time": "2021-03-23T12:09:46.602234",
     "exception": false,
     "start_time": "2021-03-23T12:09:37.126762",
     "status": "completed"
    },
    "tags": []
   },
   "outputs": [],
   "source": [
    "model_txt = BERTEmbedder(device)"
   ]
  },
  {
   "cell_type": "code",
   "execution_count": null,
   "metadata": {
    "execution": {
     "iopub.execute_input": "2021-03-23T12:09:50.615069Z",
     "iopub.status.busy": "2021-03-23T12:09:50.613233Z",
     "iopub.status.idle": "2021-03-23T12:09:50.615646Z",
     "shell.execute_reply": "2021-03-23T12:09:50.616029Z"
    },
    "papermill": {
     "duration": 2.004249,
     "end_time": "2021-03-23T12:09:50.616163",
     "exception": false,
     "start_time": "2021-03-23T12:09:48.611914",
     "status": "completed"
    },
    "tags": []
   },
   "outputs": [],
   "source": [
    "def vectorize_txt(txt):\n",
    "    model_txt.eval()\n",
    "    with torch.no_grad():\n",
    "        output = model_txt(txt).cpu().numpy()\n",
    "    return output"
   ]
  },
  {
   "cell_type": "code",
   "execution_count": null,
   "metadata": {
    "execution": {
     "iopub.execute_input": "2021-03-23T12:09:54.940117Z",
     "iopub.status.busy": "2021-03-23T12:09:54.939352Z",
     "iopub.status.idle": "2021-03-23T12:35:25.857653Z",
     "shell.execute_reply": "2021-03-23T12:35:25.858026Z"
    },
    "papermill": {
     "duration": 1533.225953,
     "end_time": "2021-03-23T12:35:25.858213",
     "exception": false,
     "start_time": "2021-03-23T12:09:52.632260",
     "status": "completed"
    },
    "tags": []
   },
   "outputs": [],
   "source": [
    "%%time\n",
    "dataset['sbert_v'] = dataset['title'].progress_apply(lambda x: vectorize_txt(x))"
   ]
  },
  {
   "cell_type": "code",
   "execution_count": null,
   "metadata": {
    "execution": {
     "iopub.execute_input": "2021-03-23T12:35:36.215832Z",
     "iopub.status.busy": "2021-03-23T12:35:36.213887Z",
     "iopub.status.idle": "2021-03-23T12:35:36.216444Z",
     "shell.execute_reply": "2021-03-23T12:35:36.216837Z"
    },
    "papermill": {
     "duration": 5.311255,
     "end_time": "2021-03-23T12:35:36.216975",
     "exception": false,
     "start_time": "2021-03-23T12:35:30.905720",
     "status": "completed"
    },
    "tags": []
   },
   "outputs": [],
   "source": [
    "del model_txt"
   ]
  },
  {
   "cell_type": "code",
   "execution_count": null,
   "metadata": {
    "execution": {
     "iopub.execute_input": "2021-03-23T12:35:46.613232Z",
     "iopub.status.busy": "2021-03-23T12:35:46.607951Z",
     "iopub.status.idle": "2021-03-23T12:35:46.706882Z",
     "shell.execute_reply": "2021-03-23T12:35:46.705873Z"
    },
    "papermill": {
     "duration": 5.464835,
     "end_time": "2021-03-23T12:35:46.707027",
     "exception": false,
     "start_time": "2021-03-23T12:35:41.242192",
     "status": "completed"
    },
    "tags": []
   },
   "outputs": [],
   "source": [
    "vectors = np.stack(dataset.sbert_v).squeeze(1)\n",
    "vectors = torch.Tensor(vectors).to(device)\n",
    "vectors = F.normalize(vectors)"
   ]
  },
  {
   "cell_type": "code",
   "execution_count": null,
   "metadata": {
    "execution": {
     "iopub.execute_input": "2021-03-23T12:35:57.579430Z",
     "iopub.status.busy": "2021-03-23T12:35:57.578548Z",
     "iopub.status.idle": "2021-03-23T12:36:29.489898Z",
     "shell.execute_reply": "2021-03-23T12:36:29.488819Z"
    },
    "papermill": {
     "duration": 37.708082,
     "end_time": "2021-03-23T12:36:29.490037",
     "exception": false,
     "start_time": "2021-03-23T12:35:51.781955",
     "status": "completed"
    },
    "tags": []
   },
   "outputs": [],
   "source": [
    "preds = []\n",
    "CHUNK = 1024\n",
    "\n",
    "print('Finding similar titles...')\n",
    "CTS = len(dataset)//CHUNK\n",
    "if len(dataset)%CHUNK!=0: CTS += 1\n",
    "for j in range( CTS ):\n",
    "    \n",
    "    a = j*CHUNK\n",
    "    b = (j+1)*CHUNK\n",
    "    b = min(b,len(dataset))\n",
    "    print('chunk',a,'to',b)\n",
    "    \n",
    "    # COSINE SIMILARITY DISTANCE\n",
    "    cts = torch.matmul( vectors, vectors[a:b].T).T\n",
    "    cts = cts.cpu().numpy()\n",
    "    \n",
    "    for k in range(b-a):\n",
    "        IDX = np.where(cts[k,]>0.95)[0]\n",
    "        o = dataset.iloc[IDX].posting_id.values\n",
    "        preds.append(o)\n",
    "\n",
    "del vectors, cts, IDX, o\n",
    "_ = gc.collect()"
   ]
  },
  {
   "cell_type": "code",
   "execution_count": null,
   "metadata": {
    "execution": {
     "iopub.execute_input": "2021-03-23T12:36:39.654286Z",
     "iopub.status.busy": "2021-03-23T12:36:39.652664Z",
     "iopub.status.idle": "2021-03-23T12:36:39.717304Z",
     "shell.execute_reply": "2021-03-23T12:36:39.718493Z"
    },
    "papermill": {
     "duration": 5.166249,
     "end_time": "2021-03-23T12:36:39.718732",
     "exception": false,
     "start_time": "2021-03-23T12:36:34.552483",
     "status": "completed"
    },
    "tags": []
   },
   "outputs": [],
   "source": [
    "dataset['preds_sbert'] = preds\n",
    "dataset.head()"
   ]
  },
  {
   "cell_type": "code",
   "execution_count": null,
   "metadata": {
    "execution": {
     "iopub.execute_input": "2021-03-23T12:36:50.039273Z",
     "iopub.status.busy": "2021-03-23T12:36:50.038302Z",
     "iopub.status.idle": "2021-03-23T12:36:50.040466Z",
     "shell.execute_reply": "2021-03-23T12:36:50.040964Z"
    },
    "papermill": {
     "duration": 5.042689,
     "end_time": "2021-03-23T12:36:50.041111",
     "exception": false,
     "start_time": "2021-03-23T12:36:44.998422",
     "status": "completed"
    },
    "tags": []
   },
   "outputs": [],
   "source": [
    "del preds"
   ]
  },
  {
   "cell_type": "code",
   "execution_count": null,
   "metadata": {
    "execution": {
     "iopub.execute_input": "2021-03-23T12:37:00.899508Z",
     "iopub.status.busy": "2021-03-23T12:37:00.898564Z",
     "iopub.status.idle": "2021-03-23T12:37:03.323312Z",
     "shell.execute_reply": "2021-03-23T12:37:03.322339Z"
    },
    "papermill": {
     "duration": 7.924871,
     "end_time": "2021-03-23T12:37:03.323498",
     "exception": false,
     "start_time": "2021-03-23T12:36:55.398627",
     "status": "completed"
    },
    "tags": []
   },
   "outputs": [],
   "source": [
    "if COMPUTE_CV:\n",
    "    dataset['f1_sbert'] = dataset.apply(getMetric('preds_sbert'), axis=1)\n",
    "    print('CV score for baseline =', dataset.f1_sbert.mean())"
   ]
  },
  {
   "cell_type": "markdown",
   "metadata": {
    "papermill": {
     "duration": 5.324334,
     "end_time": "2021-03-23T12:37:13.692528",
     "exception": false,
     "start_time": "2021-03-23T12:37:08.368194",
     "status": "completed"
    },
    "tags": []
   },
   "source": [
    "# Concatenation block"
   ]
  },
  {
   "cell_type": "code",
   "execution_count": null,
   "metadata": {
    "execution": {
     "iopub.execute_input": "2021-03-23T12:37:23.999159Z",
     "iopub.status.busy": "2021-03-23T12:37:23.998258Z",
     "iopub.status.idle": "2021-03-23T12:37:24.000492Z",
     "shell.execute_reply": "2021-03-23T12:37:23.999860Z"
    },
    "papermill": {
     "duration": 5.267821,
     "end_time": "2021-03-23T12:37:24.000666",
     "exception": false,
     "start_time": "2021-03-23T12:37:18.732845",
     "status": "completed"
    },
    "tags": []
   },
   "outputs": [],
   "source": [
    "def concat():\n",
    "    def cat(row):\n",
    "        comm = np.concatenate([row.resnet_v,row.sbert_v.squeeze()])\n",
    "        return comm\n",
    "    return cat"
   ]
  },
  {
   "cell_type": "code",
   "execution_count": null,
   "metadata": {
    "execution": {
     "iopub.execute_input": "2021-03-23T12:37:34.847223Z",
     "iopub.status.busy": "2021-03-23T12:37:34.846315Z",
     "iopub.status.idle": "2021-03-23T12:37:36.159398Z",
     "shell.execute_reply": "2021-03-23T12:37:36.158552Z"
    },
    "papermill": {
     "duration": 7.028773,
     "end_time": "2021-03-23T12:37:36.159521",
     "exception": false,
     "start_time": "2021-03-23T12:37:29.130748",
     "status": "completed"
    },
    "tags": []
   },
   "outputs": [],
   "source": [
    "dataset['concat_v'] = dataset.progress_apply(concat(), axis=1)"
   ]
  },
  {
   "cell_type": "code",
   "execution_count": null,
   "metadata": {
    "execution": {
     "iopub.execute_input": "2021-03-23T12:37:46.647068Z",
     "iopub.status.busy": "2021-03-23T12:37:46.645672Z",
     "iopub.status.idle": "2021-03-23T12:37:46.741238Z",
     "shell.execute_reply": "2021-03-23T12:37:46.740770Z"
    },
    "papermill": {
     "duration": 5.548857,
     "end_time": "2021-03-23T12:37:46.741387",
     "exception": false,
     "start_time": "2021-03-23T12:37:41.192530",
     "status": "completed"
    },
    "tags": []
   },
   "outputs": [],
   "source": [
    "vectors = np.stack(dataset.concat_v)"
   ]
  },
  {
   "cell_type": "code",
   "execution_count": null,
   "metadata": {
    "execution": {
     "iopub.execute_input": "2021-03-23T12:37:57.240728Z",
     "iopub.status.busy": "2021-03-23T12:37:57.239888Z",
     "iopub.status.idle": "2021-03-23T12:37:57.954761Z",
     "shell.execute_reply": "2021-03-23T12:37:57.953902Z"
    },
    "papermill": {
     "duration": 6.034885,
     "end_time": "2021-03-23T12:37:57.954889",
     "exception": false,
     "start_time": "2021-03-23T12:37:51.920004",
     "status": "completed"
    },
    "tags": []
   },
   "outputs": [],
   "source": [
    "KNN = 50\n",
    "model = NearestNeighbors(n_neighbors=KNN)\n",
    "model.fit(vectors)"
   ]
  },
  {
   "cell_type": "code",
   "execution_count": null,
   "metadata": {
    "execution": {
     "iopub.execute_input": "2021-03-23T12:38:08.803522Z",
     "iopub.status.busy": "2021-03-23T12:38:08.802522Z",
     "iopub.status.idle": "2021-03-23T12:38:21.551289Z",
     "shell.execute_reply": "2021-03-23T12:38:21.550524Z"
    },
    "papermill": {
     "duration": 18.522974,
     "end_time": "2021-03-23T12:38:21.551450",
     "exception": false,
     "start_time": "2021-03-23T12:38:03.028476",
     "status": "completed"
    },
    "tags": []
   },
   "outputs": [],
   "source": [
    "preds = []\n",
    "CHUNK = 1024*4\n",
    "\n",
    "print('Finding similar images...')\n",
    "CTS = len(vectors)//CHUNK\n",
    "if len(vectors)%CHUNK!=0: CTS += 1\n",
    "for j in range( CTS ):\n",
    "    \n",
    "    a = j*CHUNK\n",
    "    b = (j+1)*CHUNK\n",
    "    b = min(b,len(vectors))\n",
    "    print('chunk',a,'to',b)\n",
    "    distances, indices = model.kneighbors(vectors[a:b,])\n",
    "    \n",
    "    for k in range(b-a):\n",
    "        IDX = np.where(distances[k,]<35.0)[0]\n",
    "        IDS = indices[k,IDX]\n",
    "        o = dataset.iloc[IDS].posting_id.values\n",
    "        preds.append(o)\n",
    "        \n",
    "del model, distances, indices, vectors, IDX, o, IDS\n",
    "_ = gc.collect()"
   ]
  },
  {
   "cell_type": "code",
   "execution_count": null,
   "metadata": {
    "execution": {
     "iopub.execute_input": "2021-03-23T12:38:31.831306Z",
     "iopub.status.busy": "2021-03-23T12:38:31.830615Z",
     "iopub.status.idle": "2021-03-23T12:38:31.881960Z",
     "shell.execute_reply": "2021-03-23T12:38:31.882360Z"
    },
    "papermill": {
     "duration": 5.310031,
     "end_time": "2021-03-23T12:38:31.882517",
     "exception": false,
     "start_time": "2021-03-23T12:38:26.572486",
     "status": "completed"
    },
    "tags": []
   },
   "outputs": [],
   "source": [
    "dataset['preds_concat'] = preds\n",
    "dataset.head()"
   ]
  },
  {
   "cell_type": "code",
   "execution_count": null,
   "metadata": {
    "execution": {
     "iopub.execute_input": "2021-03-23T12:38:42.768340Z",
     "iopub.status.busy": "2021-03-23T12:38:42.767403Z",
     "iopub.status.idle": "2021-03-23T12:38:42.769006Z",
     "shell.execute_reply": "2021-03-23T12:38:42.769410Z"
    },
    "papermill": {
     "duration": 5.456782,
     "end_time": "2021-03-23T12:38:42.769587",
     "exception": false,
     "start_time": "2021-03-23T12:38:37.312805",
     "status": "completed"
    },
    "tags": []
   },
   "outputs": [],
   "source": [
    "del preds"
   ]
  },
  {
   "cell_type": "code",
   "execution_count": null,
   "metadata": {
    "execution": {
     "iopub.execute_input": "2021-03-23T12:38:53.183439Z",
     "iopub.status.busy": "2021-03-23T12:38:53.182450Z",
     "iopub.status.idle": "2021-03-23T12:38:55.411285Z",
     "shell.execute_reply": "2021-03-23T12:38:55.411952Z"
    },
    "papermill": {
     "duration": 7.630175,
     "end_time": "2021-03-23T12:38:55.412159",
     "exception": false,
     "start_time": "2021-03-23T12:38:47.781984",
     "status": "completed"
    },
    "tags": []
   },
   "outputs": [],
   "source": [
    "if COMPUTE_CV:\n",
    "    dataset['f1_concat'] = dataset.apply(getMetric('preds_concat'), axis=1)\n",
    "    print('CV score for baseline =', dataset.f1_concat.mean())"
   ]
  },
  {
   "cell_type": "markdown",
   "metadata": {
    "papermill": {
     "duration": 5.34398,
     "end_time": "2021-03-23T12:39:05.821205",
     "exception": false,
     "start_time": "2021-03-23T12:39:00.477225",
     "status": "completed"
    },
    "tags": []
   },
   "source": [
    "# Phash block"
   ]
  },
  {
   "cell_type": "code",
   "execution_count": null,
   "metadata": {
    "execution": {
     "iopub.execute_input": "2021-03-23T12:39:16.723306Z",
     "iopub.status.busy": "2021-03-23T12:39:16.722325Z",
     "iopub.status.idle": "2021-03-23T12:39:18.554676Z",
     "shell.execute_reply": "2021-03-23T12:39:18.555238Z"
    },
    "papermill": {
     "duration": 7.234308,
     "end_time": "2021-03-23T12:39:18.555429",
     "exception": false,
     "start_time": "2021-03-23T12:39:11.321121",
     "status": "completed"
    },
    "tags": []
   },
   "outputs": [],
   "source": [
    "tmp = dataset.groupby('image_phash').posting_id.agg('unique').to_dict()\n",
    "dataset['preds_phash'] = dataset.image_phash.map(tmp)\n",
    "dataset.head()"
   ]
  },
  {
   "cell_type": "code",
   "execution_count": null,
   "metadata": {
    "execution": {
     "iopub.execute_input": "2021-03-23T12:39:28.919715Z",
     "iopub.status.busy": "2021-03-23T12:39:28.918860Z",
     "iopub.status.idle": "2021-03-23T12:39:28.921209Z",
     "shell.execute_reply": "2021-03-23T12:39:28.921672Z"
    },
    "papermill": {
     "duration": 5.300088,
     "end_time": "2021-03-23T12:39:28.921815",
     "exception": false,
     "start_time": "2021-03-23T12:39:23.621727",
     "status": "completed"
    },
    "tags": []
   },
   "outputs": [],
   "source": [
    "del tmp"
   ]
  },
  {
   "cell_type": "markdown",
   "metadata": {
    "papermill": {
     "duration": 5.35355,
     "end_time": "2021-03-23T12:39:39.328742",
     "exception": false,
     "start_time": "2021-03-23T12:39:33.975192",
     "status": "completed"
    },
    "tags": []
   },
   "source": [
    "# TF-IDF block"
   ]
  },
  {
   "cell_type": "code",
   "execution_count": null,
   "metadata": {
    "execution": {
     "iopub.execute_input": "2021-03-23T12:39:50.179652Z",
     "iopub.status.busy": "2021-03-23T12:39:50.178681Z",
     "iopub.status.idle": "2021-03-23T12:39:50.232650Z",
     "shell.execute_reply": "2021-03-23T12:39:50.232181Z"
    },
    "papermill": {
     "duration": 5.370942,
     "end_time": "2021-03-23T12:39:50.232783",
     "exception": false,
     "start_time": "2021-03-23T12:39:44.861841",
     "status": "completed"
    },
    "tags": []
   },
   "outputs": [],
   "source": [
    "dataset_gf = cudf.DataFrame(dataset[['posting_id', 'title']])"
   ]
  },
  {
   "cell_type": "code",
   "execution_count": null,
   "metadata": {
    "execution": {
     "iopub.execute_input": "2021-03-23T12:40:00.608024Z",
     "iopub.status.busy": "2021-03-23T12:40:00.607432Z",
     "iopub.status.idle": "2021-03-23T12:40:12.589312Z",
     "shell.execute_reply": "2021-03-23T12:40:12.588272Z"
    },
    "papermill": {
     "duration": 17.289376,
     "end_time": "2021-03-23T12:40:12.589491",
     "exception": false,
     "start_time": "2021-03-23T12:39:55.300115",
     "status": "completed"
    },
    "tags": []
   },
   "outputs": [],
   "source": [
    "model = TfidfVectorizer(stop_words='english', binary=True, max_features=25_000)\n",
    "text_embeddings = model.fit_transform(dataset_gf.title)"
   ]
  },
  {
   "cell_type": "code",
   "execution_count": null,
   "metadata": {
    "execution": {
     "iopub.execute_input": "2021-03-23T12:40:23.461213Z",
     "iopub.status.busy": "2021-03-23T12:40:23.459440Z",
     "iopub.status.idle": "2021-03-23T12:40:23.461861Z",
     "shell.execute_reply": "2021-03-23T12:40:23.462249Z"
    },
    "papermill": {
     "duration": 5.275165,
     "end_time": "2021-03-23T12:40:23.462399",
     "exception": false,
     "start_time": "2021-03-23T12:40:18.187234",
     "status": "completed"
    },
    "tags": []
   },
   "outputs": [],
   "source": [
    "del model"
   ]
  },
  {
   "cell_type": "code",
   "execution_count": null,
   "metadata": {
    "execution": {
     "iopub.execute_input": "2021-03-23T12:40:33.797291Z",
     "iopub.status.busy": "2021-03-23T12:40:33.796739Z",
     "iopub.status.idle": "2021-03-23T12:41:02.598425Z",
     "shell.execute_reply": "2021-03-23T12:41:02.597400Z"
    },
    "papermill": {
     "duration": 34.105862,
     "end_time": "2021-03-23T12:41:02.598583",
     "exception": false,
     "start_time": "2021-03-23T12:40:28.492721",
     "status": "completed"
    },
    "tags": []
   },
   "outputs": [],
   "source": [
    "preds = []\n",
    "CHUNK = 1024\n",
    "\n",
    "print('Finding similar titles...')\n",
    "CTS = len(dataset)//CHUNK\n",
    "if len(dataset)%CHUNK!=0: CTS += 1\n",
    "for j in range( CTS ):\n",
    "    \n",
    "    a = j*CHUNK\n",
    "    b = (j+1)*CHUNK\n",
    "    b = min(b,len(dataset))\n",
    "    print('chunk',a,'to',b)\n",
    "    \n",
    "    # COSINE SIMILARITY DISTANCE\n",
    "    cts = text_embeddings.dot(text_embeddings[a:b].T).T.toarray()\n",
    "    \n",
    "    for k in range(b-a):\n",
    "        IDX = cupy.where(cts[k,]>0.7)[0]\n",
    "        o = dataset.iloc[cupy.asnumpy(IDX)].posting_id.values\n",
    "        preds.append(o)\n",
    "        \n",
    "del text_embeddings, IDX, o, cts\n",
    "_ = gc.collect()"
   ]
  },
  {
   "cell_type": "code",
   "execution_count": null,
   "metadata": {
    "execution": {
     "iopub.execute_input": "2021-03-23T12:41:13.001516Z",
     "iopub.status.busy": "2021-03-23T12:41:13.000661Z",
     "iopub.status.idle": "2021-03-23T12:41:13.003474Z",
     "shell.execute_reply": "2021-03-23T12:41:13.002982Z"
    },
    "papermill": {
     "duration": 5.090023,
     "end_time": "2021-03-23T12:41:13.003604",
     "exception": false,
     "start_time": "2021-03-23T12:41:07.913581",
     "status": "completed"
    },
    "tags": []
   },
   "outputs": [],
   "source": [
    "dataset['preds_tfidf'] = preds"
   ]
  },
  {
   "cell_type": "code",
   "execution_count": null,
   "metadata": {
    "execution": {
     "iopub.execute_input": "2021-03-23T12:41:24.001765Z",
     "iopub.status.busy": "2021-03-23T12:41:24.000932Z",
     "iopub.status.idle": "2021-03-23T12:41:24.003800Z",
     "shell.execute_reply": "2021-03-23T12:41:24.003310Z"
    },
    "papermill": {
     "duration": 5.559136,
     "end_time": "2021-03-23T12:41:24.003936",
     "exception": false,
     "start_time": "2021-03-23T12:41:18.444800",
     "status": "completed"
    },
    "tags": []
   },
   "outputs": [],
   "source": [
    "del preds"
   ]
  },
  {
   "cell_type": "code",
   "execution_count": null,
   "metadata": {
    "execution": {
     "iopub.execute_input": "2021-03-23T12:41:34.434800Z",
     "iopub.status.busy": "2021-03-23T12:41:34.433845Z",
     "iopub.status.idle": "2021-03-23T12:41:36.761396Z",
     "shell.execute_reply": "2021-03-23T12:41:36.762399Z"
    },
    "papermill": {
     "duration": 7.485653,
     "end_time": "2021-03-23T12:41:36.762623",
     "exception": false,
     "start_time": "2021-03-23T12:41:29.276970",
     "status": "completed"
    },
    "tags": []
   },
   "outputs": [],
   "source": [
    "if COMPUTE_CV:\n",
    "    dataset['f1_tfidf'] = dataset.apply(getMetric('preds_tfidf'), axis=1)\n",
    "    print('CV score for baseline =', dataset.f1_tfidf.mean())"
   ]
  },
  {
   "cell_type": "markdown",
   "metadata": {
    "papermill": {
     "duration": 5.096787,
     "end_time": "2021-03-23T12:41:47.113875",
     "exception": false,
     "start_time": "2021-03-23T12:41:42.017088",
     "status": "completed"
    },
    "tags": []
   },
   "source": [
    "# Submission block - Comparing and performing test"
   ]
  },
  {
   "cell_type": "code",
   "execution_count": null,
   "metadata": {
    "execution": {
     "iopub.execute_input": "2021-03-23T12:41:58.001431Z",
     "iopub.status.busy": "2021-03-23T12:41:58.000559Z",
     "iopub.status.idle": "2021-03-23T12:41:58.002442Z",
     "shell.execute_reply": "2021-03-23T12:41:58.002865Z"
    },
    "papermill": {
     "duration": 5.514206,
     "end_time": "2021-03-23T12:41:58.003008",
     "exception": false,
     "start_time": "2021-03-23T12:41:52.488802",
     "status": "completed"
    },
    "tags": []
   },
   "outputs": [],
   "source": [
    "def combine_for_sub(row):\n",
    "    x = np.concatenate([row.preds_concat,row.preds_phash, row.preds_tfidf])\n",
    "    return ' '.join( np.unique(x) )\n",
    "\n",
    "def combine_for_train(row):\n",
    "    x = np.concatenate([row.preds_concat,row.preds_phash, row.preds_tfidf])\n",
    "    return list(np.unique(x))"
   ]
  },
  {
   "cell_type": "code",
   "execution_count": null,
   "metadata": {
    "execution": {
     "iopub.execute_input": "2021-03-23T12:42:08.367345Z",
     "iopub.status.busy": "2021-03-23T12:42:08.366359Z",
     "iopub.status.idle": "2021-03-23T12:42:10.319474Z",
     "shell.execute_reply": "2021-03-23T12:42:10.319888Z"
    },
    "papermill": {
     "duration": 7.012603,
     "end_time": "2021-03-23T12:42:10.320067",
     "exception": false,
     "start_time": "2021-03-23T12:42:03.307464",
     "status": "completed"
    },
    "tags": []
   },
   "outputs": [],
   "source": [
    "if COMPUTE_CV:\n",
    "    dataset['matches'] = dataset.apply(combine_for_train, axis=1)\n",
    "else:\n",
    "    dataset['matches'] = dataset.apply(combine_for_sub, axis=1)"
   ]
  },
  {
   "cell_type": "code",
   "execution_count": null,
   "metadata": {
    "execution": {
     "iopub.execute_input": "2021-03-23T12:42:20.433645Z",
     "iopub.status.busy": "2021-03-23T12:42:20.432809Z",
     "iopub.status.idle": "2021-03-23T12:42:24.370921Z",
     "shell.execute_reply": "2021-03-23T12:42:24.369849Z"
    },
    "papermill": {
     "duration": 8.976593,
     "end_time": "2021-03-23T12:42:24.371081",
     "exception": false,
     "start_time": "2021-03-23T12:42:15.394488",
     "status": "completed"
    },
    "tags": []
   },
   "outputs": [],
   "source": [
    "dataset.to_pickle('train_data.pkl')"
   ]
  },
  {
   "cell_type": "code",
   "execution_count": null,
   "metadata": {
    "execution": {
     "iopub.execute_input": "2021-03-23T12:42:35.173132Z",
     "iopub.status.busy": "2021-03-23T12:42:35.172196Z",
     "iopub.status.idle": "2021-03-23T12:42:35.400173Z",
     "shell.execute_reply": "2021-03-23T12:42:35.399638Z"
    },
    "papermill": {
     "duration": 5.548758,
     "end_time": "2021-03-23T12:42:35.400323",
     "exception": false,
     "start_time": "2021-03-23T12:42:29.851565",
     "status": "completed"
    },
    "tags": []
   },
   "outputs": [],
   "source": [
    "dataset[['posting_id', 'matches']].to_csv('submission.csv',index=False)"
   ]
  },
  {
   "cell_type": "code",
   "execution_count": null,
   "metadata": {
    "execution": {
     "iopub.execute_input": "2021-03-23T12:42:45.857827Z",
     "iopub.status.busy": "2021-03-23T12:42:45.857051Z",
     "iopub.status.idle": "2021-03-23T12:42:45.909519Z",
     "shell.execute_reply": "2021-03-23T12:42:45.909984Z"
    },
    "papermill": {
     "duration": 5.466011,
     "end_time": "2021-03-23T12:42:45.910176",
     "exception": false,
     "start_time": "2021-03-23T12:42:40.444165",
     "status": "completed"
    },
    "tags": []
   },
   "outputs": [],
   "source": [
    "subm = pd.read_csv('submission.csv')\n",
    "subm.head()"
   ]
  },
  {
   "cell_type": "code",
   "execution_count": null,
   "metadata": {
    "execution": {
     "iopub.execute_input": "2021-03-23T12:42:56.646573Z",
     "iopub.status.busy": "2021-03-23T12:42:56.645777Z",
     "iopub.status.idle": "2021-03-23T12:42:59.174670Z",
     "shell.execute_reply": "2021-03-23T12:42:59.175258Z"
    },
    "papermill": {
     "duration": 8.186065,
     "end_time": "2021-03-23T12:42:59.175470",
     "exception": false,
     "start_time": "2021-03-23T12:42:50.989405",
     "status": "completed"
    },
    "tags": []
   },
   "outputs": [],
   "source": [
    "if COMPUTE_CV:\n",
    "    dataset['f1_final'] = dataset.apply(getMetric('matches'), axis=1)\n",
    "    print('CV score for baseline =', dataset.f1_final.mean())"
   ]
  },
  {
   "cell_type": "code",
   "execution_count": null,
   "metadata": {},
   "outputs": [],
   "source": []
  },
  {
   "cell_type": "code",
   "execution_count": null,
   "metadata": {},
   "outputs": [],
   "source": []
  },
  {
   "cell_type": "code",
   "execution_count": null,
   "metadata": {},
   "outputs": [],
   "source": []
  },
  {
   "cell_type": "code",
   "execution_count": null,
   "metadata": {},
   "outputs": [],
   "source": []
  },
  {
   "cell_type": "code",
   "execution_count": null,
   "metadata": {},
   "outputs": [],
   "source": []
  }
 ],
 "metadata": {
  "kernelspec": {
   "display_name": "Python 3 (ipykernel)",
   "language": "python",
   "name": "python3"
  },
  "language_info": {
   "codemirror_mode": {
    "name": "ipython",
    "version": 3
   },
   "file_extension": ".py",
   "mimetype": "text/x-python",
   "name": "python",
   "nbconvert_exporter": "python",
   "pygments_lexer": "ipython3",
   "version": "3.9.12"
  },
  "papermill": {
   "default_parameters": {},
   "duration": 2993.274807,
   "end_time": "2021-03-23T12:43:07.012520",
   "environment_variables": {},
   "exception": null,
   "input_path": "__notebook__.ipynb",
   "output_path": "__notebook__.ipynb",
   "parameters": {},
   "start_time": "2021-03-23T11:53:13.737713",
   "version": "2.2.2"
  }
 },
 "nbformat": 4,
 "nbformat_minor": 4
}
